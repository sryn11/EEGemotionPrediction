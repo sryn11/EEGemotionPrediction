{
 "cells": [
  {
   "cell_type": "code",
   "execution_count": 1,
   "metadata": {},
   "outputs": [],
   "source": [
    "import numpy as np\n",
    "import pandas as pd\n",
    "\n",
    "import matplotlib.pyplot as plt\n",
    "import seaborn as sns\n",
    "\n",
    "from sklearn.model_selection import train_test_split\n",
    "\n",
    "# Load the TensorBoard notebook extension\n",
    "%load_ext tensorboard\n",
    "import datetime #for tensorboard\n",
    "\n",
    "import tensorflow as tf\n",
    "\n",
    "from sklearn.metrics import confusion_matrix, classification_report\n",
    "\n",
    "# Clear any logs from previous runs\n",
    "#rm -rf /logs/fit #buggy"
   ]
  },
  {
   "cell_type": "code",
   "execution_count": 2,
   "metadata": {},
   "outputs": [],
   "source": [
    "datadir = 'C:/Users/17788/Documents/code/Py/emotions-main/emotions-main/emotions.csv'\n",
    "data = pd.read_csv(datadir)\n",
    "#data"
   ]
  },
  {
   "cell_type": "code",
   "execution_count": 3,
   "metadata": {},
   "outputs": [],
   "source": [
    "#print(data.columns.tolist())"
   ]
  },
  {
   "cell_type": "code",
   "execution_count": 4,
   "metadata": {},
   "outputs": [],
   "source": [
    "#plot the data to see what it looks like. Looks like csv is [time x features]\n",
    "#sample = data.loc[:, 'fft_0_b']\n",
    "#plt.plot(sample)"
   ]
  },
  {
   "cell_type": "code",
   "execution_count": 5,
   "metadata": {},
   "outputs": [],
   "source": [
    "#data['label'].value_counts()\n",
    "#re-map the labels onto the labels column\n",
    "label_map = {'NEGATIVE': 0, 'NEUTRAL': 1, 'POSITIVE': 2}\n",
    "data['label'] = data['label'].replace(label_map)"
   ]
  },
  {
   "cell_type": "code",
   "execution_count": 6,
   "metadata": {},
   "outputs": [],
   "source": [
    "def preprocess_inputs(df):\n",
    "    #extract the data and the labels. just the first 1000\n",
    "    df1 = df.loc[0:1000, 'mean_1_a':'mean_d_4_a'].copy()\n",
    "    df2 = df.loc[0:1000, 'label'].copy()\n",
    "    \n",
    "    y = df2\n",
    "    X = df1\n",
    "    \n",
    "    X_train, X_test, y_train, y_test = train_test_split(X, y, train_size=0.7, random_state=123)\n",
    "    return X_train, X_test, y_train, y_test"
   ]
  },
  {
   "cell_type": "code",
   "execution_count": 7,
   "metadata": {},
   "outputs": [],
   "source": [
    "X_train, X_test, y_train, y_test = preprocess_inputs(data)"
   ]
  },
  {
   "cell_type": "code",
   "execution_count": 8,
   "metadata": {},
   "outputs": [
    {
     "data": {
      "image/png": "[encoded data removed]",
      "text/plain": [
       "<IPython.core.display.Image object>"
      ]
     },
     "execution_count": 8,
     "metadata": {},
     "output_type": "execute_result"
    }
   ],
   "source": [
    "#start defining the model\n",
    "inputs = tf.keras.Input(shape=(X_train.shape[1],))\n",
    "expand_dims = tf.expand_dims(inputs, axis=2)\n",
    "GRU = tf.keras.layers.GRU(64, return_sequences=True)(expand_dims)\n",
    "dropout = tf.keras.layers.Dropout(0.4)(GRU)\n",
    "flatten = tf.keras.layers.Flatten()(dropout)\n",
    "outputs = tf.keras.layers.Dense(3, activation='softmax')(flatten)\n",
    "\n",
    "model = tf.keras.Model(inputs=inputs, outputs=outputs)\n",
    "#print(model.summary())\n",
    "tf.keras.utils.plot_model(model = model , rankdir=\"UD\", dpi=72, show_shapes=True)"
   ]
  },
  {
   "cell_type": "code",
   "execution_count": 9,
   "metadata": {},
   "outputs": [
    {
     "name": "stdout",
     "output_type": "stream",
     "text": [
      "Epoch 1/100\n",
      "7/7 [==============================] - 10s 672ms/step - loss: 1.2973 - accuracy: 0.3484 - val_loss: 0.7419 - val_accuracy: 0.7429\n",
      "Epoch 2/100\n",
      "7/7 [==============================] - 0s 22ms/step - loss: 0.8039 - accuracy: 0.6209 - val_loss: 0.5712 - val_accuracy: 0.7786\n",
      "Epoch 3/100\n",
      "7/7 [==============================] - 0s 23ms/step - loss: 0.6042 - accuracy: 0.7490 - val_loss: 0.5244 - val_accuracy: 0.7714\n",
      "Epoch 4/100\n",
      "7/7 [==============================] - 0s 24ms/step - loss: 0.4882 - accuracy: 0.8369 - val_loss: 0.4604 - val_accuracy: 0.8000\n",
      "Epoch 5/100\n",
      "7/7 [==============================] - 0s 24ms/step - loss: 0.4346 - accuracy: 0.8171 - val_loss: 0.4174 - val_accuracy: 0.8214\n",
      "Epoch 6/100\n",
      "7/7 [==============================] - 0s 25ms/step - loss: 0.4095 - accuracy: 0.8296 - val_loss: 0.3864 - val_accuracy: 0.8179\n",
      "Epoch 7/100\n",
      "7/7 [==============================] - 0s 25ms/step - loss: 0.3601 - accuracy: 0.8633 - val_loss: 0.3673 - val_accuracy: 0.8321\n",
      "Epoch 8/100\n",
      "7/7 [==============================] - 0s 24ms/step - loss: 0.3170 - accuracy: 0.8778 - val_loss: 0.3336 - val_accuracy: 0.8536\n",
      "Epoch 9/100\n",
      "7/7 [==============================] - 0s 23ms/step - loss: 0.2991 - accuracy: 0.8861 - val_loss: 0.3162 - val_accuracy: 0.8607\n",
      "Epoch 10/100\n",
      "7/7 [==============================] - 0s 22ms/step - loss: 0.2998 - accuracy: 0.8761 - val_loss: 0.3018 - val_accuracy: 0.8643\n",
      "Epoch 11/100\n",
      "7/7 [==============================] - 0s 24ms/step - loss: 0.2676 - accuracy: 0.9031 - val_loss: 0.2859 - val_accuracy: 0.8750\n",
      "Epoch 12/100\n",
      "7/7 [==============================] - 0s 24ms/step - loss: 0.2634 - accuracy: 0.9026 - val_loss: 0.2767 - val_accuracy: 0.8893\n",
      "Epoch 13/100\n",
      "7/7 [==============================] - 0s 24ms/step - loss: 0.2561 - accuracy: 0.8953 - val_loss: 0.2807 - val_accuracy: 0.8679\n",
      "Epoch 14/100\n",
      "7/7 [==============================] - 0s 24ms/step - loss: 0.2700 - accuracy: 0.9022 - val_loss: 0.2691 - val_accuracy: 0.8821\n",
      "Epoch 15/100\n",
      "7/7 [==============================] - 0s 24ms/step - loss: 0.2293 - accuracy: 0.9139 - val_loss: 0.2664 - val_accuracy: 0.8786\n",
      "Epoch 16/100\n",
      "7/7 [==============================] - 0s 23ms/step - loss: 0.2109 - accuracy: 0.9215 - val_loss: 0.2570 - val_accuracy: 0.9000\n",
      "Epoch 17/100\n",
      "7/7 [==============================] - 0s 25ms/step - loss: 0.2441 - accuracy: 0.8859 - val_loss: 0.2583 - val_accuracy: 0.8964\n",
      "Epoch 18/100\n",
      "7/7 [==============================] - 0s 23ms/step - loss: 0.2328 - accuracy: 0.9195 - val_loss: 0.2579 - val_accuracy: 0.8893\n",
      "Epoch 19/100\n",
      "7/7 [==============================] - 0s 23ms/step - loss: 0.2077 - accuracy: 0.9323 - val_loss: 0.2554 - val_accuracy: 0.8929\n",
      "Epoch 20/100\n",
      "7/7 [==============================] - 0s 23ms/step - loss: 0.2060 - accuracy: 0.9069 - val_loss: 0.2555 - val_accuracy: 0.9000\n",
      "Epoch 21/100\n",
      "7/7 [==============================] - 0s 23ms/step - loss: 0.1973 - accuracy: 0.9196 - val_loss: 0.2511 - val_accuracy: 0.8964\n",
      "Epoch 22/100\n",
      "7/7 [==============================] - 0s 23ms/step - loss: 0.2084 - accuracy: 0.9126 - val_loss: 0.2513 - val_accuracy: 0.9000\n",
      "Epoch 23/100\n",
      "7/7 [==============================] - 0s 23ms/step - loss: 0.1840 - accuracy: 0.9308 - val_loss: 0.2462 - val_accuracy: 0.9071\n",
      "Epoch 24/100\n",
      "7/7 [==============================] - 0s 23ms/step - loss: 0.1943 - accuracy: 0.9200 - val_loss: 0.2438 - val_accuracy: 0.9000\n",
      "Epoch 25/100\n",
      "7/7 [==============================] - 0s 23ms/step - loss: 0.1800 - accuracy: 0.9197 - val_loss: 0.2509 - val_accuracy: 0.9000\n",
      "Epoch 26/100\n",
      "7/7 [==============================] - 0s 23ms/step - loss: 0.1999 - accuracy: 0.9118 - val_loss: 0.2428 - val_accuracy: 0.9036\n",
      "Epoch 27/100\n",
      "7/7 [==============================] - 0s 23ms/step - loss: 0.2183 - accuracy: 0.9090 - val_loss: 0.2472 - val_accuracy: 0.9000\n",
      "Epoch 28/100\n",
      "7/7 [==============================] - 0s 24ms/step - loss: 0.2009 - accuracy: 0.9265 - val_loss: 0.2415 - val_accuracy: 0.9214\n",
      "Epoch 29/100\n",
      "7/7 [==============================] - 0s 25ms/step - loss: 0.1840 - accuracy: 0.9119 - val_loss: 0.2460 - val_accuracy: 0.8964\n",
      "Epoch 30/100\n",
      "7/7 [==============================] - 0s 24ms/step - loss: 0.1815 - accuracy: 0.9265 - val_loss: 0.2519 - val_accuracy: 0.8929\n",
      "Epoch 31/100\n",
      "7/7 [==============================] - 0s 22ms/step - loss: 0.1906 - accuracy: 0.9363 - val_loss: 0.2422 - val_accuracy: 0.9143\n",
      "Epoch 32/100\n",
      "7/7 [==============================] - 0s 22ms/step - loss: 0.2097 - accuracy: 0.8969 - val_loss: 0.2363 - val_accuracy: 0.9000\n",
      "Epoch 33/100\n",
      "7/7 [==============================] - 0s 24ms/step - loss: 0.1992 - accuracy: 0.9364 - val_loss: 0.2388 - val_accuracy: 0.9036\n",
      "Epoch 34/100\n",
      "7/7 [==============================] - 0s 25ms/step - loss: 0.1690 - accuracy: 0.9339 - val_loss: 0.2356 - val_accuracy: 0.9214\n",
      "Epoch 35/100\n",
      "7/7 [==============================] - 0s 23ms/step - loss: 0.1616 - accuracy: 0.9422 - val_loss: 0.2393 - val_accuracy: 0.9036\n",
      "Epoch 36/100\n",
      "7/7 [==============================] - 0s 22ms/step - loss: 0.1853 - accuracy: 0.9179 - val_loss: 0.2346 - val_accuracy: 0.9143\n",
      "Epoch 37/100\n",
      "7/7 [==============================] - 0s 24ms/step - loss: 0.1673 - accuracy: 0.9334 - val_loss: 0.2382 - val_accuracy: 0.9107\n",
      "Epoch 38/100\n",
      "7/7 [==============================] - 0s 24ms/step - loss: 0.1854 - accuracy: 0.9192 - val_loss: 0.2362 - val_accuracy: 0.9071\n",
      "Epoch 39/100\n",
      "7/7 [==============================] - 0s 24ms/step - loss: 0.1620 - accuracy: 0.9435 - val_loss: 0.2367 - val_accuracy: 0.9071\n",
      "Epoch 40/100\n",
      "7/7 [==============================] - 0s 23ms/step - loss: 0.1573 - accuracy: 0.9532 - val_loss: 0.2338 - val_accuracy: 0.9143\n",
      "Epoch 41/100\n",
      "7/7 [==============================] - 0s 21ms/step - loss: 0.1675 - accuracy: 0.9266 - val_loss: 0.2298 - val_accuracy: 0.9179\n",
      "Epoch 42/100\n",
      "7/7 [==============================] - 0s 24ms/step - loss: 0.1587 - accuracy: 0.9517 - val_loss: 0.2304 - val_accuracy: 0.9107\n",
      "Epoch 43/100\n",
      "7/7 [==============================] - 0s 23ms/step - loss: 0.1694 - accuracy: 0.9373 - val_loss: 0.2321 - val_accuracy: 0.9286\n",
      "Epoch 44/100\n",
      "7/7 [==============================] - 0s 23ms/step - loss: 0.1368 - accuracy: 0.9364 - val_loss: 0.2274 - val_accuracy: 0.9179\n",
      "Epoch 45/100\n",
      "7/7 [==============================] - 0s 23ms/step - loss: 0.1513 - accuracy: 0.9464 - val_loss: 0.2299 - val_accuracy: 0.9214\n",
      "Epoch 46/100\n",
      "7/7 [==============================] - 0s 23ms/step - loss: 0.1299 - accuracy: 0.9476 - val_loss: 0.2267 - val_accuracy: 0.9250\n",
      "Epoch 47/100\n",
      "7/7 [==============================] - 0s 24ms/step - loss: 0.1817 - accuracy: 0.9331 - val_loss: 0.2284 - val_accuracy: 0.9250\n",
      "Epoch 48/100\n",
      "7/7 [==============================] - 0s 24ms/step - loss: 0.1427 - accuracy: 0.9347 - val_loss: 0.2263 - val_accuracy: 0.9357\n",
      "Epoch 49/100\n",
      "7/7 [==============================] - 0s 24ms/step - loss: 0.1549 - accuracy: 0.9374 - val_loss: 0.2227 - val_accuracy: 0.9250\n",
      "Epoch 50/100\n",
      "7/7 [==============================] - 0s 25ms/step - loss: 0.1681 - accuracy: 0.9470 - val_loss: 0.2244 - val_accuracy: 0.9179\n",
      "Epoch 51/100\n",
      "7/7 [==============================] - 0s 25ms/step - loss: 0.1524 - accuracy: 0.9345 - val_loss: 0.2237 - val_accuracy: 0.9250\n",
      "Epoch 52/100\n",
      "7/7 [==============================] - 0s 25ms/step - loss: 0.1498 - accuracy: 0.9308 - val_loss: 0.2310 - val_accuracy: 0.9179\n",
      "Epoch 53/100\n",
      "7/7 [==============================] - 0s 25ms/step - loss: 0.1253 - accuracy: 0.9531 - val_loss: 0.2197 - val_accuracy: 0.9357\n",
      "Epoch 54/100\n",
      "7/7 [==============================] - 0s 26ms/step - loss: 0.1507 - accuracy: 0.9259 - val_loss: 0.2174 - val_accuracy: 0.9286\n",
      "Epoch 55/100\n",
      "7/7 [==============================] - 0s 24ms/step - loss: 0.1135 - accuracy: 0.9535 - val_loss: 0.2189 - val_accuracy: 0.9143\n",
      "Epoch 56/100\n",
      "7/7 [==============================] - 0s 21ms/step - loss: 0.1387 - accuracy: 0.9485 - val_loss: 0.2201 - val_accuracy: 0.9250\n",
      "Epoch 57/100\n",
      "7/7 [==============================] - 0s 30ms/step - loss: 0.1324 - accuracy: 0.9302 - val_loss: 0.2180 - val_accuracy: 0.9357\n",
      "Epoch 58/100\n",
      "7/7 [==============================] - 0s 37ms/step - loss: 0.1105 - accuracy: 0.9491 - val_loss: 0.2214 - val_accuracy: 0.9286\n",
      "Epoch 59/100\n",
      "7/7 [==============================] - 0s 51ms/step - loss: 0.1269 - accuracy: 0.9513 - val_loss: 0.2257 - val_accuracy: 0.9214\n",
      "Epoch 60/100\n",
      "7/7 [==============================] - 0s 48ms/step - loss: 0.1307 - accuracy: 0.9489 - val_loss: 0.2306 - val_accuracy: 0.9179\n",
      "Epoch 61/100\n",
      "7/7 [==============================] - 0s 24ms/step - loss: 0.1549 - accuracy: 0.9361 - val_loss: 0.2210 - val_accuracy: 0.9250\n",
      "Epoch 62/100\n",
      "7/7 [==============================] - 0s 23ms/step - loss: 0.1270 - accuracy: 0.9525 - val_loss: 0.2140 - val_accuracy: 0.9250\n",
      "Epoch 63/100\n",
      "7/7 [==============================] - 0s 22ms/step - loss: 0.1155 - accuracy: 0.9632 - val_loss: 0.2244 - val_accuracy: 0.9321\n",
      "Epoch 64/100\n",
      "7/7 [==============================] - 0s 25ms/step - loss: 0.1209 - accuracy: 0.9461 - val_loss: 0.2257 - val_accuracy: 0.9250\n",
      "Epoch 65/100\n",
      "7/7 [==============================] - 0s 24ms/step - loss: 0.1162 - accuracy: 0.9505 - val_loss: 0.2196 - val_accuracy: 0.9286\n",
      "Epoch 66/100\n",
      "7/7 [==============================] - 0s 22ms/step - loss: 0.0941 - accuracy: 0.9720 - val_loss: 0.2196 - val_accuracy: 0.9250\n",
      "Epoch 67/100\n",
      "7/7 [==============================] - 0s 23ms/step - loss: 0.0978 - accuracy: 0.9650 - val_loss: 0.2286 - val_accuracy: 0.9250\n",
      "Epoch 68/100\n",
      "7/7 [==============================] - 0s 24ms/step - loss: 0.1252 - accuracy: 0.9494 - val_loss: 0.2194 - val_accuracy: 0.9286\n",
      "Epoch 69/100\n",
      "7/7 [==============================] - 0s 24ms/step - loss: 0.0962 - accuracy: 0.9711 - val_loss: 0.2219 - val_accuracy: 0.9179\n",
      "Epoch 70/100\n",
      "7/7 [==============================] - 0s 24ms/step - loss: 0.1032 - accuracy: 0.9639 - val_loss: 0.2285 - val_accuracy: 0.9286\n",
      "Epoch 71/100\n",
      "7/7 [==============================] - 0s 24ms/step - loss: 0.1171 - accuracy: 0.9579 - val_loss: 0.2341 - val_accuracy: 0.9214\n",
      "Epoch 72/100\n",
      "7/7 [==============================] - 0s 22ms/step - loss: 0.1503 - accuracy: 0.9453 - val_loss: 0.2504 - val_accuracy: 0.9143\n",
      "Epoch 73/100\n",
      "7/7 [==============================] - 0s 23ms/step - loss: 0.1030 - accuracy: 0.9623 - val_loss: 0.2344 - val_accuracy: 0.9214\n",
      "Epoch 74/100\n",
      "7/7 [==============================] - 0s 24ms/step - loss: 0.1364 - accuracy: 0.9310 - val_loss: 0.2573 - val_accuracy: 0.9071\n",
      "Epoch 75/100\n",
      "7/7 [==============================] - 0s 23ms/step - loss: 0.1413 - accuracy: 0.9464 - val_loss: 0.2397 - val_accuracy: 0.9214\n",
      "Epoch 76/100\n",
      "7/7 [==============================] - 0s 24ms/step - loss: 0.1031 - accuracy: 0.9501 - val_loss: 0.2311 - val_accuracy: 0.9179\n",
      "Epoch 77/100\n",
      "7/7 [==============================] - 0s 23ms/step - loss: 0.0917 - accuracy: 0.9630 - val_loss: 0.2379 - val_accuracy: 0.9286\n",
      "Epoch 78/100\n",
      "7/7 [==============================] - 0s 24ms/step - loss: 0.0918 - accuracy: 0.9680 - val_loss: 0.2423 - val_accuracy: 0.9214\n",
      "Epoch 79/100\n",
      "7/7 [==============================] - 0s 24ms/step - loss: 0.0932 - accuracy: 0.9628 - val_loss: 0.2379 - val_accuracy: 0.9214\n",
      "Epoch 80/100\n",
      "7/7 [==============================] - 0s 29ms/step - loss: 0.1006 - accuracy: 0.9659 - val_loss: 0.2417 - val_accuracy: 0.9071\n",
      "Epoch 81/100\n",
      "7/7 [==============================] - 0s 41ms/step - loss: 0.1048 - accuracy: 0.9615 - val_loss: 0.2334 - val_accuracy: 0.9179\n",
      "Epoch 82/100\n",
      "7/7 [==============================] - 0s 29ms/step - loss: 0.1080 - accuracy: 0.9624 - val_loss: 0.2239 - val_accuracy: 0.9250\n",
      "Epoch 83/100\n",
      "7/7 [==============================] - 0s 24ms/step - loss: 0.1012 - accuracy: 0.9628 - val_loss: 0.2332 - val_accuracy: 0.9214\n",
      "Epoch 84/100\n",
      "7/7 [==============================] - 0s 24ms/step - loss: 0.0884 - accuracy: 0.9662 - val_loss: 0.2383 - val_accuracy: 0.9179\n",
      "Epoch 85/100\n",
      "7/7 [==============================] - 0s 23ms/step - loss: 0.0921 - accuracy: 0.9784 - val_loss: 0.2301 - val_accuracy: 0.9179\n",
      "Epoch 86/100\n",
      "7/7 [==============================] - 0s 21ms/step - loss: 0.0821 - accuracy: 0.9672 - val_loss: 0.2280 - val_accuracy: 0.9286\n",
      "Epoch 87/100\n",
      "7/7 [==============================] - 0s 23ms/step - loss: 0.1076 - accuracy: 0.9587 - val_loss: 0.2267 - val_accuracy: 0.9286\n",
      "Epoch 88/100\n",
      "7/7 [==============================] - 0s 24ms/step - loss: 0.1014 - accuracy: 0.9629 - val_loss: 0.2315 - val_accuracy: 0.9214\n",
      "Epoch 89/100\n",
      "7/7 [==============================] - 0s 23ms/step - loss: 0.0868 - accuracy: 0.9663 - val_loss: 0.2281 - val_accuracy: 0.9250\n",
      "Epoch 90/100\n",
      "7/7 [==============================] - 0s 24ms/step - loss: 0.1082 - accuracy: 0.9492 - val_loss: 0.2300 - val_accuracy: 0.9214\n",
      "Epoch 91/100\n",
      "7/7 [==============================] - 0s 26ms/step - loss: 0.0814 - accuracy: 0.9704 - val_loss: 0.2470 - val_accuracy: 0.9179\n",
      "Epoch 92/100\n",
      "7/7 [==============================] - 0s 27ms/step - loss: 0.0837 - accuracy: 0.9665 - val_loss: 0.2438 - val_accuracy: 0.9214\n",
      "Epoch 93/100\n",
      "7/7 [==============================] - 0s 22ms/step - loss: 0.0658 - accuracy: 0.9750 - val_loss: 0.2371 - val_accuracy: 0.9214\n",
      "Epoch 94/100\n",
      "7/7 [==============================] - 0s 24ms/step - loss: 0.1027 - accuracy: 0.9511 - val_loss: 0.2403 - val_accuracy: 0.9321\n",
      "Epoch 95/100\n",
      "7/7 [==============================] - 0s 25ms/step - loss: 0.0922 - accuracy: 0.9717 - val_loss: 0.2476 - val_accuracy: 0.9107\n",
      "Epoch 96/100\n",
      "7/7 [==============================] - 0s 25ms/step - loss: 0.0824 - accuracy: 0.9659 - val_loss: 0.2480 - val_accuracy: 0.9250\n",
      "Epoch 97/100\n",
      "7/7 [==============================] - 0s 34ms/step - loss: 0.0849 - accuracy: 0.9612 - val_loss: 0.2572 - val_accuracy: 0.9179\n",
      "Epoch 98/100\n",
      "7/7 [==============================] - 0s 33ms/step - loss: 0.0869 - accuracy: 0.9785 - val_loss: 0.2578 - val_accuracy: 0.9179\n",
      "Epoch 99/100\n",
      "7/7 [==============================] - 0s 23ms/step - loss: 0.0936 - accuracy: 0.9676 - val_loss: 0.2383 - val_accuracy: 0.9286\n",
      "Epoch 100/100\n",
      "7/7 [==============================] - 0s 23ms/step - loss: 0.0943 - accuracy: 0.9659 - val_loss: 0.2422 - val_accuracy: 0.9214\n"
     ]
    }
   ],
   "source": [
    "#opt = tf.keras.optimizers.Adam(learning_rate=0.001)\n",
    "model.compile(\n",
    "    optimizer='adam', \n",
    "    loss='sparse_categorical_crossentropy',\n",
    "    metrics=['accuracy']\n",
    ")\n",
    "\n",
    "#for tensorboard\n",
    "log_dir = \"logs/fit/\" + \"GRU\" + datetime.datetime.now().strftime(\"%Y%m%d-%H%M%S\")\n",
    "tensorboard_callback = tf.keras.callbacks.TensorBoard(log_dir=log_dir, histogram_freq=1)\n",
    "\n",
    "\n",
    "history = model.fit(\n",
    "    X_train,\n",
    "    y_train,\n",
    "    validation_split=0.4,\n",
    "    batch_size=64,\n",
    "    epochs=100,\n",
    "    callbacks=[\n",
    "        tensorboard_callback,\n",
    "        #tf.keras.callbacks.LearningRateScheduler(\n",
    "        #lambda epoch: 1e-3 * 10 ** (epoch / 30)\n",
    "        #)\n",
    "    ]\n",
    ")"
   ]
  },
  {
   "cell_type": "code",
   "execution_count": 10,
   "metadata": {},
   "outputs": [
    {
     "name": "stdout",
     "output_type": "stream",
     "text": [
      "Test Accuracy: 91.362%\n"
     ]
    }
   ],
   "source": [
    "model_acc = model.evaluate(X_test, y_test, verbose=0)[1]\n",
    "print(\"Test Accuracy: {:.3f}%\".format(model_acc * 100))"
   ]
  },
  {
   "cell_type": "code",
   "execution_count": 11,
   "metadata": {},
   "outputs": [
    {
     "data": {
      "image/png": "[encoded data removed]",
      "text/plain": [
       "<Figure size 576x576 with 1 Axes>"
      ]
     },
     "metadata": {
      "needs_background": "light"
     },
     "output_type": "display_data"
    },
    {
     "name": "stdout",
     "output_type": "stream",
     "text": [
      "Classification Report:\n",
      "----------------------\n",
      "               precision    recall  f1-score   support\n",
      "\n",
      "    NEGATIVE       0.92      0.91      0.92       104\n",
      "     NEUTRAL       0.96      0.94      0.95       107\n",
      "    POSITIVE       0.85      0.88      0.86        90\n",
      "\n",
      "    accuracy                           0.91       301\n",
      "   macro avg       0.91      0.91      0.91       301\n",
      "weighted avg       0.91      0.91      0.91       301\n",
      "\n"
     ]
    }
   ],
   "source": [
    "y_pred = np.array(list(map(lambda x: np.argmax(x), model.predict(X_test))))\n",
    "\n",
    "cm = confusion_matrix(y_test, y_pred)\n",
    "clr = classification_report(y_test, y_pred, target_names=label_map.keys())\n",
    "\n",
    "plt.figure(figsize=(8, 8))\n",
    "sns.heatmap(cm, annot=True, vmin=0, fmt='g', cbar=False, cmap='Blues')\n",
    "plt.xticks(np.arange(3) + 0.5, label_map.keys())\n",
    "plt.yticks(np.arange(3) + 0.5, label_map.keys())\n",
    "plt.xlabel(\"Predicted\")\n",
    "plt.ylabel(\"Actual\")\n",
    "plt.title(\"Confusion Matrix\")\n",
    "plt.show()\n",
    "\n",
    "print(\"Classification Report:\\n----------------------\\n\", clr)"
   ]
  },
  {
   "cell_type": "code",
   "execution_count": null,
   "metadata": {},
   "outputs": [],
   "source": []
  },
  {
   "cell_type": "code",
   "execution_count": 14,
   "metadata": {},
   "outputs": [
    {
     "data": {
      "text/plain": [
       "ERROR: Timed out waiting for TensorBoard to start. It may still be running as pid 12188."
      ]
     },
     "metadata": {},
     "output_type": "display_data"
    }
   ],
   "source": [
    "%tensorboard --logdir logs/fit --host localhost"
   ]
  },
  {
   "cell_type": "code",
   "execution_count": 13,
   "metadata": {},
   "outputs": [
    {
     "data": {
      "text/plain": [
       "\"\\nlearning_rates = 1e-3 * (10 ** (np.arange(100) / 30))\\nplt.semilogx(\\n    learning_rates, \\n    history.history['loss'], \\n    lw=3, color='#000'\\n)\\nplt.title('Learning rate vs. loss', size=20)\\nplt.xlabel('Learning rate', size=14)\\nplt.ylabel('Loss', size=14);\\n\""
      ]
     },
     "execution_count": 13,
     "metadata": {},
     "output_type": "execute_result"
    }
   ],
   "source": [
    "\"\"\"\n",
    "learning_rates = 1e-3 * (10 ** (np.arange(100) / 30))\n",
    "plt.semilogx(\n",
    "    learning_rates, \n",
    "    history.history['loss'], \n",
    "    lw=3, color='#000'\n",
    ")\n",
    "plt.title('Learning rate vs. loss', size=20)\n",
    "plt.xlabel('Learning rate', size=14)\n",
    "plt.ylabel('Loss', size=14);\n",
    "\"\"\""
   ]
  },
  {
   "cell_type": "code",
   "execution_count": null,
   "metadata": {},
   "outputs": [],
   "source": []
  },
  {
   "cell_type": "code",
   "execution_count": null,
   "metadata": {},
   "outputs": [],
   "source": [
    "\n"
   ]
  },
  {
   "cell_type": "code",
   "execution_count": null,
   "metadata": {},
   "outputs": [],
   "source": []
  }
 ],
 "metadata": {
  "kernelspec": {
   "display_name": "Python 3",
   "language": "python",
   "name": "python3"
  },
  "language_info": {
   "codemirror_mode": {
    "name": "ipython",
    "version": 3
   },
   "file_extension": ".py",
   "mimetype": "text/x-python",
   "name": "python",
   "nbconvert_exporter": "python",
   "pygments_lexer": "ipython3",
   "version": "3.8.5"
  }
 },
 "nbformat": 4,
 "nbformat_minor": 4
}
